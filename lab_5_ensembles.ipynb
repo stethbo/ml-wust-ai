{
 "cells": [
  {
   "cell_type": "code",
   "execution_count": 1,
   "metadata": {},
   "outputs": [],
   "source": [
    "import os\n",
    "import pandas as pd\n",
    "import numpy as np\n",
    "from ydata_profiling import ProfileReport\n",
    "\n",
    "np.random.seed(0)"
   ]
  },
  {
   "cell_type": "code",
   "execution_count": 2,
   "metadata": {},
   "outputs": [
    {
     "data": {
      "text/plain": [
       "Index(['age', 'workclass', 'fnlwgt', 'education', 'education.num',\n",
       "       'marital.status', 'occupation', 'relationship', 'race', 'sex',\n",
       "       'capital.gain', 'capital.loss', 'hours.per.week', 'native.country',\n",
       "       'income'],\n",
       "      dtype='object')"
      ]
     },
     "execution_count": 2,
     "metadata": {},
     "output_type": "execute_result"
    }
   ],
   "source": [
    "df = pd.read_csv(\"data/adult.csv\")\n",
    "df.columns"
   ]
  },
  {
   "cell_type": "code",
   "execution_count": 3,
   "metadata": {},
   "outputs": [],
   "source": [
    "df.replace('?', np.nan, inplace=True)"
   ]
  },
  {
   "cell_type": "code",
   "execution_count": 4,
   "metadata": {},
   "outputs": [],
   "source": [
    "# profile = ProfileReport(df, title=\"Pandas Profiling Report\", explorative=True)\n",
    "# profile.to_widgets()\n",
    "# profile.to_file(\"lab5_EDA_report.html\")"
   ]
  },
  {
   "cell_type": "code",
   "execution_count": 5,
   "metadata": {},
   "outputs": [],
   "source": [
    "from sklearn.preprocessing import OneHotEncoder\n",
    "\n",
    "\n",
    "def encode_cat_cols(train_df: pd.DataFrame, columns_to_encode: list):\n",
    "    \"\"\"\n",
    "    Converts categorical column(s) in the DataFrames to one-hot encoded variables using sklearn's OneHotEncoder.\n",
    "\n",
    "    Args:\n",
    "        train_df (pd.DataFrame): The training DataFrame containing the categorical columns to encode.\n",
    "        columns_to_encode (list): A list of strings representing the names of the\n",
    "                                  categorical columns to be one-hot encoded.\n",
    "\n",
    "    Returns:\n",
    "        pd.DataFrame: DataFrame with the original categorical columns replaced by\n",
    "                                     their one-hot encoded counterparts.\n",
    "    \"\"\"\n",
    "    encoder = OneHotEncoder(handle_unknown='ignore', sparse_output  =False, dtype=int)\n",
    "    encoder.fit(train_df[columns_to_encode])\n",
    "    \n",
    "    train_encoded_array = encoder.transform(train_df[columns_to_encode])\n",
    "    train_encoded = pd.DataFrame(train_encoded_array, columns=encoder.get_feature_names_out(columns_to_encode))\n",
    "    train_df = train_df.drop(columns=columns_to_encode).reset_index(drop=True)\n",
    "    train_df = pd.concat([train_df, train_encoded], axis=1)\n",
    "    print(\"✅columns encoded\")\n",
    "    return train_df"
   ]
  },
  {
   "cell_type": "code",
   "execution_count": 6,
   "metadata": {},
   "outputs": [],
   "source": [
    "CAT_COLS = ['workclass', 'marital.status', 'occupation', 'relationship', 'race', 'sex', 'native.country']\n",
    "NUM_COLS = ['age', 'fnlwgt', 'education.num', 'capital.gain', 'capital.loss', 'hours.per.week', 'native.country', 'income']"
   ]
  },
  {
   "cell_type": "code",
   "execution_count": 7,
   "metadata": {},
   "outputs": [
    {
     "name": "stdout",
     "output_type": "stream",
     "text": [
      "✅columns encoded\n"
     ]
    }
   ],
   "source": [
    "df = encode_cat_cols(df, columns_to_encode=CAT_COLS)"
   ]
  },
  {
   "cell_type": "code",
   "execution_count": 8,
   "metadata": {},
   "outputs": [],
   "source": [
    "y = df['income'].values\n",
    "y = [0 if y_i == '<=50K' else 1 for y_i in y]"
   ]
  },
  {
   "cell_type": "code",
   "execution_count": 9,
   "metadata": {},
   "outputs": [],
   "source": [
    "COLUMNS_TO_REMOVE = ['income', 'education']"
   ]
  },
  {
   "cell_type": "code",
   "execution_count": 10,
   "metadata": {},
   "outputs": [],
   "source": [
    "X = df[[col for col in df.columns if col not in COLUMNS_TO_REMOVE]].values"
   ]
  },
  {
   "cell_type": "code",
   "execution_count": 45,
   "metadata": {},
   "outputs": [
    {
     "name": "stdout",
     "output_type": "stream",
     "text": [
      "[LightGBM] [Info] Number of positive: 6272, number of negative: 19776\n",
      "[LightGBM] [Info] Auto-choosing row-wise multi-threading, the overhead of testing was 0.002040 seconds.\n",
      "You can set `force_row_wise=true` to remove the overhead.\n",
      "And if memory is not enough, you can set `force_col_wise=true`.\n",
      "[LightGBM] [Info] Total Bins 581\n",
      "[LightGBM] [Info] Number of data points in the train set: 26048, number of used features: 74\n",
      "[LightGBM] [Info] [binary:BoostFromScore]: pavg=0.240786 -> initscore=-1.148374\n",
      "[LightGBM] [Info] Start training from score -1.148374\n",
      "[LightGBM] [Info] Number of positive: 6273, number of negative: 19776\n",
      "[LightGBM] [Info] Auto-choosing row-wise multi-threading, the overhead of testing was 0.000921 seconds.\n",
      "You can set `force_row_wise=true` to remove the overhead.\n",
      "And if memory is not enough, you can set `force_col_wise=true`.\n",
      "[LightGBM] [Info] Total Bins 734\n",
      "[LightGBM] [Info] Number of data points in the train set: 26049, number of used features: 79\n",
      "[LightGBM] [Info] [binary:BoostFromScore]: pavg=0.240815 -> initscore=-1.148214\n",
      "[LightGBM] [Info] Start training from score -1.148214\n",
      "[LightGBM] [Info] Number of positive: 6273, number of negative: 19776\n",
      "[LightGBM] [Info] Auto-choosing row-wise multi-threading, the overhead of testing was 0.001391 seconds.\n",
      "You can set `force_row_wise=true` to remove the overhead.\n",
      "And if memory is not enough, you can set `force_col_wise=true`.\n",
      "[LightGBM] [Info] Total Bins 741\n",
      "[LightGBM] [Info] Number of data points in the train set: 26049, number of used features: 77\n",
      "[LightGBM] [Info] [binary:BoostFromScore]: pavg=0.240815 -> initscore=-1.148214\n",
      "[LightGBM] [Info] Start training from score -1.148214\n",
      "[LightGBM] [Info] Number of positive: 6273, number of negative: 19776\n",
      "[LightGBM] [Info] Auto-choosing row-wise multi-threading, the overhead of testing was 0.002858 seconds.\n",
      "You can set `force_row_wise=true` to remove the overhead.\n",
      "And if memory is not enough, you can set `force_col_wise=true`.\n",
      "[LightGBM] [Info] Total Bins 738\n",
      "[LightGBM] [Info] Number of data points in the train set: 26049, number of used features: 77\n",
      "[LightGBM] [Info] [binary:BoostFromScore]: pavg=0.240815 -> initscore=-1.148214\n",
      "[LightGBM] [Info] Start training from score -1.148214\n",
      "[LightGBM] [Info] Number of positive: 6273, number of negative: 19776\n",
      "[LightGBM] [Info] Auto-choosing row-wise multi-threading, the overhead of testing was 0.001489 seconds.\n",
      "You can set `force_row_wise=true` to remove the overhead.\n",
      "And if memory is not enough, you can set `force_col_wise=true`.\n",
      "[LightGBM] [Info] Total Bins 735\n",
      "[LightGBM] [Info] Number of data points in the train set: 26049, number of used features: 75\n",
      "[LightGBM] [Info] [binary:BoostFromScore]: pavg=0.240815 -> initscore=-1.148214\n",
      "[LightGBM] [Info] Start training from score -1.148214\n"
     ]
    }
   ],
   "source": [
    "from sklearn.model_selection import cross_validate\n",
    "from sklearn.ensemble import RandomForestClassifier, HistGradientBoostingClassifier\n",
    "from xgboost import XGBClassifier\n",
    "from lightgbm import LGBMClassifier\n",
    "from catboost import CatBoostClassifier\n",
    "\n",
    "from sklearn.metrics import accuracy_score, f1_score\n",
    "from sklearn.metrics import make_scorer\n",
    "SCORING = {'accuracy': make_scorer(accuracy_score),\n",
    "           'f1_binary': make_scorer(f1_score, average=\"binary\")\n",
    "           }\n",
    "\n",
    "# SCORING = {\n",
    "#     'accuracy': 'accuracy',\n",
    "#     'f1_binary': 'f1_binary'\n",
    "# }\n",
    "\n",
    "def run_cross_validation(model, X, y, cv=5, scoring=SCORING):\n",
    "    scores = cross_validate(model, X, y, cv=5, scoring=scoring)\n",
    "    return scores\n",
    "\n",
    "models = {\n",
    "    'Random Forest': RandomForestClassifier(),\n",
    "    'Hist. Gradient Boosting': HistGradientBoostingClassifier(),\n",
    "    'XGBoost': XGBClassifier(use_label_encoder=False, eval_metric='logloss'),\n",
    "    'LightGBM': LGBMClassifier(),\n",
    "    'CatBoost': CatBoostClassifier(verbose=0)\n",
    "}\n",
    "\n",
    "\n",
    "results = {\n",
    "    \"Model\": [],\n",
    "    \"F1 Binary (mean)\": [],\n",
    "    \"F1 Binary (std)\": [],\n",
    "    \"Accuracy (mean)\": [],\n",
    "    \"Accuracy (std)\": []\n",
    "}\n",
    "\n",
    "f1_binary_scores = []\n",
    "accuracy_scores = []\n",
    "\n",
    "# Run cross-validation for each model\n",
    "for model_name, model in models.items():\n",
    "    scores = run_cross_validation(model, X, y)\n",
    "    f1_binary_scores.append(scores[\"test_f1_binary\"])\n",
    "    accuracy_scores.append(scores[\"test_accuracy\"])\n",
    "    results[\"Model\"].append(model_name)\n",
    "    results[\"F1 Binary (mean)\"].append(np.mean(scores['test_f1_binary']))\n",
    "    results[\"F1 Binary (std)\"].append(np.std(scores['test_f1_binary']))\n",
    "    results[\"Accuracy (mean)\"].append(np.mean(scores['test_accuracy']))\n",
    "    results[\"Accuracy (std)\"].append(np.std(scores['test_accuracy']))\n"
   ]
  },
  {
   "cell_type": "code",
   "execution_count": 46,
   "metadata": {},
   "outputs": [
    {
     "data": {
      "text/markdown": [
       "|    | Model                   |   F1 Binary (mean) |   F1 Binary (std) |   Accuracy (mean) |   Accuracy (std) |\n",
       "|---:|:------------------------|-------------------:|------------------:|------------------:|-----------------:|\n",
       "|  0 | Random Forest           |              0.543 |             0.09  |             0.808 |            0.022 |\n",
       "|  1 | Hist. Gradient Boosting |              0.551 |             0.098 |             0.81  |            0.03  |\n",
       "|  2 | XGBoost                 |              0.56  |             0.11  |             0.818 |            0.025 |\n",
       "|  3 | LightGBM                |              0.553 |             0.097 |             0.81  |            0.033 |\n",
       "|  4 | CatBoost                |              0.577 |             0.058 |             0.82  |            0.02  |"
      ],
      "text/plain": [
       "<IPython.core.display.Markdown object>"
      ]
     },
     "metadata": {},
     "output_type": "display_data"
    }
   ],
   "source": [
    "from IPython.display import display, Markdown\n",
    "\n",
    "df_results = pd.DataFrame(data=results).round(3)\n",
    "display(Markdown(df_results.to_markdown()))"
   ]
  },
  {
   "cell_type": "code",
   "execution_count": 47,
   "metadata": {},
   "outputs": [
    {
     "name": "stderr",
     "output_type": "stream",
     "text": [
      "/var/folders/cw/3q5ykvvj1031m_07d0vbll1m0000gr/T/ipykernel_29042/2268942077.py:17: UserWarning: set_ticklabels() should only be used with a fixed number of ticks, i.e. after set_ticks() or using a FixedLocator.\n",
      "  axes[0].set_xticklabels(axes[0].get_xticklabels(), rotation=45)\n",
      "/var/folders/cw/3q5ykvvj1031m_07d0vbll1m0000gr/T/ipykernel_29042/2268942077.py:22: UserWarning: set_ticklabels() should only be used with a fixed number of ticks, i.e. after set_ticks() or using a FixedLocator.\n",
      "  axes[1].set_xticklabels(axes[1].get_xticklabels(), rotation=45)\n"
     ]
    },
    {
     "data": {
      "image/png": "[encoded data removed]",
      "text/plain": [
       "<Figure size 1400x700 with 2 Axes>"
      ]
     },
     "metadata": {},
     "output_type": "display_data"
    }
   ],
   "source": [
    "import matplotlib.pyplot as plt\n",
    "import seaborn as sns\n",
    "\n",
    "f1_micro_df = pd.DataFrame(f1_binary_scores).T\n",
    "f1_micro_df.columns = models.keys()\n",
    "f1_micro_df = f1_micro_df.melt(var_name='Model', value_name='F1 Micro Score')\n",
    "\n",
    "accuracy_df = pd.DataFrame(accuracy_scores).T\n",
    "accuracy_df.columns = models.keys()\n",
    "accuracy_df = accuracy_df.melt(var_name='Model', value_name='Accuracy Score')\n",
    "\n",
    "fig, axes = plt.subplots(1, 2, figsize=(14, 7))\n",
    "\n",
    "sns.boxplot(x='Model', y='F1 Micro Score', data=f1_micro_df, ax=axes[0], hue='Model', legend=False, palette=\"Set1\")\n",
    "axes[0].set_title('F1 Micro Scores')\n",
    "axes[0].set_ylabel('Score')\n",
    "axes[0].set_xticklabels(axes[0].get_xticklabels(), rotation=45)\n",
    "\n",
    "sns.boxplot(x='Model', y='Accuracy Score', data=accuracy_df, ax=axes[1], hue='Model', legend=False, palette=\"Set1\")\n",
    "axes[1].set_title('Accuracy Scores')\n",
    "axes[1].set_ylabel('Score')\n",
    "axes[1].set_xticklabels(axes[1].get_xticklabels(), rotation=45)\n",
    "\n",
    "plt.tight_layout()\n",
    "plt.show()"
   ]
  },
  {
   "cell_type": "markdown",
   "metadata": {},
   "source": [
    "### optymalizacja hiepraparametrów dla ***XGBClassifier***"
   ]
  },
  {
   "cell_type": "code",
   "execution_count": 71,
   "metadata": {},
   "outputs": [
    {
     "name": "stdout",
     "output_type": "stream",
     "text": [
      "Fitting 3 folds for each of 243 candidates, totalling 729 fits\n"
     ]
    },
    {
     "name": "stderr",
     "output_type": "stream",
     "text": [
      "/Users/stefan/coding/pwr-ai/ml/ml-venv/lib/python3.11/site-packages/joblib/externals/loky/process_executor.py:752: UserWarning: A worker stopped while some jobs were given to the executor. This can be caused by a too short worker timeout or by a memory leak.\n",
      "  warnings.warn(\n"
     ]
    }
   ],
   "source": [
    "from sklearn.model_selection import GridSearchCV, train_test_split, cross_val_score\n",
    "from sklearn.metrics import accuracy_score\n",
    "\n",
    "X_train, _, y_train, _ = train_test_split(X, y, test_size=0.5, random_state=42)\n",
    "\n",
    "\n",
    "param_grid = {\n",
    "    'n_estimators': [100, 200, 300],\n",
    "    'learning_rate': [0.01, 0.1, 0.2],\n",
    "    'max_depth': [3, 5, 7],\n",
    "    'colsample_bytree': [0.6, 0.8, 1.0],\n",
    "    'gamma': [0, 0.1, 0.2],\n",
    "}\n",
    "\n",
    "xgb_model = XGBClassifier(use_label_encoder=False, eval_metric='logloss')\n",
    "grid_search = GridSearchCV(estimator=xgb_model, param_grid=param_grid, cv=3, scoring='f1', verbose=1, n_jobs=-1)\n",
    "grid_search.fit(X_train, y_train)\n",
    "best_params = grid_search.best_params_\n",
    "best_model = grid_search.best_estimator_"
   ]
  },
  {
   "cell_type": "code",
   "execution_count": 72,
   "metadata": {},
   "outputs": [
    {
     "data": {
      "text/markdown": [
       "### Best parameters found for ***XGB Classifier***"
      ],
      "text/plain": [
       "<IPython.core.display.Markdown object>"
      ]
     },
     "metadata": {},
     "output_type": "display_data"
    },
    {
     "data": {
      "text/markdown": [
       "- ***colsample_bytree***: **0.6**\n",
       "- ***gamma***: **0**\n",
       "- ***learning_rate***: **0.1**\n",
       "- ***max_depth***: **5**\n",
       "- ***n_estimators***: **200**\n"
      ],
      "text/plain": [
       "<IPython.core.display.Markdown object>"
      ]
     },
     "metadata": {},
     "output_type": "display_data"
    }
   ],
   "source": [
    "display(Markdown(\"### Best parameters found for ***XGB Classifier***\"))\n",
    "md_str = \"\"\n",
    "for param, value in best_params.items():\n",
    "    md_str += f\"- ***{param}***: **{value}**\\n\"\n",
    "display(Markdown(md_str))"
   ]
  },
  {
   "cell_type": "code",
   "execution_count": 73,
   "metadata": {},
   "outputs": [
    {
     "data": {
      "text/markdown": [
       "### ***F1 (mean)***: 0.560"
      ],
      "text/plain": [
       "<IPython.core.display.Markdown object>"
      ]
     },
     "metadata": {},
     "output_type": "display_data"
    },
    {
     "data": {
      "text/markdown": [
       "### ***Accuracy***: 0.821"
      ],
      "text/plain": [
       "<IPython.core.display.Markdown object>"
      ]
     },
     "metadata": {},
     "output_type": "display_data"
    }
   ],
   "source": [
    "xgb_scores = run_cross_validation(best_model, X, y, cv=10)\n",
    "display(Markdown(f'### ***F1 (mean)***: {np.mean(xgb_scores[\"test_f1_binary\"]):.3f}'))\n",
    "display(Markdown(f'### ***Accuracy***: {np.mean(xgb_scores[\"test_accuracy\"]):.3f}'))"
   ]
  },
  {
   "cell_type": "markdown",
   "metadata": {},
   "source": [
    "### optymalizacja hiepraparametrów dla ***HistGradientBoostingClassifier***"
   ]
  },
  {
   "cell_type": "code",
   "execution_count": 95,
   "metadata": {},
   "outputs": [
    {
     "name": "stdout",
     "output_type": "stream",
     "text": [
      "Fitting 5 folds for each of 192 candidates, totalling 960 fits\n"
     ]
    }
   ],
   "source": [
    "from sklearn.model_selection import GridSearchCV\n",
    "from sklearn.ensemble import HistGradientBoostingClassifier\n",
    "\n",
    "hgb = HistGradientBoostingClassifier()\n",
    "param_grid = {\n",
    "    \"learning_rate\": [0.01, 0.1, 0.2],\n",
    "    \"max_iter\": [100, 200],\n",
    "    \"max_leaf_nodes\": [31, 63],\n",
    "    \"max_depth\": [None, 10],\n",
    "    \"min_samples_leaf\": [1, 10],\n",
    "    \"l2_regularization\": [0.0, 0.1],\n",
    "    \"max_bins\": [255, 128],\n",
    "    \"categorical_features\": [None],\n",
    "    \"random_state\": [42]\n",
    "}\n",
    "\n",
    "\n",
    "grid_search = GridSearchCV(estimator=hgb, param_grid=param_grid, cv=5, scoring='f1', verbose=1, n_jobs=-1)\n",
    "grid_search.fit(X, y)\n",
    "best_params = grid_search.best_params_\n",
    "best_model = grid_search.best_estimator_"
   ]
  },
  {
   "cell_type": "code",
   "execution_count": 96,
   "metadata": {},
   "outputs": [
    {
     "data": {
      "text/markdown": [
       "### Best parameters found for ***XGB Classifier***"
      ],
      "text/plain": [
       "<IPython.core.display.Markdown object>"
      ]
     },
     "metadata": {},
     "output_type": "display_data"
    },
    {
     "data": {
      "text/markdown": [
       "- ***categorical_features***: **None**\n",
       "- ***l2_regularization***: **0.0**\n",
       "- ***learning_rate***: **0.01**\n",
       "- ***max_bins***: **255**\n",
       "- ***max_depth***: **None**\n",
       "- ***max_iter***: **200**\n",
       "- ***max_leaf_nodes***: **63**\n",
       "- ***min_samples_leaf***: **10**\n",
       "- ***random_state***: **42**\n"
      ],
      "text/plain": [
       "<IPython.core.display.Markdown object>"
      ]
     },
     "metadata": {},
     "output_type": "display_data"
    }
   ],
   "source": [
    "display(Markdown(\"### Best parameters found for ***XGB Classifier***\"))\n",
    "md_str = \"\"\n",
    "for param, value in best_params.items():\n",
    "    md_str += f\"- ***{param}***: **{value}**\\n\"\n",
    "display(Markdown(md_str))"
   ]
  },
  {
   "cell_type": "code",
   "execution_count": 97,
   "metadata": {},
   "outputs": [
    {
     "data": {
      "text/markdown": [
       "### ***F1 (mean)***: 0.569"
      ],
      "text/plain": [
       "<IPython.core.display.Markdown object>"
      ]
     },
     "metadata": {},
     "output_type": "display_data"
    },
    {
     "data": {
      "text/markdown": [
       "### ***Accuracy***: 0.821"
      ],
      "text/plain": [
       "<IPython.core.display.Markdown object>"
      ]
     },
     "metadata": {},
     "output_type": "display_data"
    }
   ],
   "source": [
    "hgbc_scores = run_cross_validation(best_model, X, y, cv=10)\n",
    "display(Markdown(f'### ***F1 (mean)***: {np.mean(hgbc_scores[\"test_f1_binary\"]):.3f}'))\n",
    "display(Markdown(f'### ***Accuracy***: {np.mean(hgbc_scores[\"test_accuracy\"]):.3f}'))"
   ]
  },
  {
   "cell_type": "markdown",
   "metadata": {},
   "source": [
    "### ograniczenia monotoniczne (ang. *monotonic cosntraints*)"
   ]
  },
  {
   "cell_type": "code",
   "execution_count": 87,
   "metadata": {},
   "outputs": [
    {
     "data": {
      "text/html": [
       "<div>\n",
       "<style scoped>\n",
       "    .dataframe tbody tr th:only-of-type {\n",
       "        vertical-align: middle;\n",
       "    }\n",
       "\n",
       "    .dataframe tbody tr th {\n",
       "        vertical-align: top;\n",
       "    }\n",
       "\n",
       "    .dataframe thead th {\n",
       "        text-align: right;\n",
       "    }\n",
       "</style>\n",
       "<table border=\"1\" class=\"dataframe\">\n",
       "  <thead>\n",
       "    <tr style=\"text-align: right;\">\n",
       "      <th></th>\n",
       "      <th>age</th>\n",
       "      <th>fnlwgt</th>\n",
       "      <th>education</th>\n",
       "      <th>education.num</th>\n",
       "      <th>capital.gain</th>\n",
       "      <th>capital.loss</th>\n",
       "      <th>hours.per.week</th>\n",
       "      <th>income</th>\n",
       "      <th>workclass_Federal-gov</th>\n",
       "      <th>workclass_Local-gov</th>\n",
       "      <th>...</th>\n",
       "      <th>native.country_Puerto-Rico</th>\n",
       "      <th>native.country_Scotland</th>\n",
       "      <th>native.country_South</th>\n",
       "      <th>native.country_Taiwan</th>\n",
       "      <th>native.country_Thailand</th>\n",
       "      <th>native.country_Trinadad&amp;Tobago</th>\n",
       "      <th>native.country_United-States</th>\n",
       "      <th>native.country_Vietnam</th>\n",
       "      <th>native.country_Yugoslavia</th>\n",
       "      <th>native.country_nan</th>\n",
       "    </tr>\n",
       "  </thead>\n",
       "  <tbody>\n",
       "    <tr>\n",
       "      <th>0</th>\n",
       "      <td>90</td>\n",
       "      <td>77053</td>\n",
       "      <td>HS-grad</td>\n",
       "      <td>9</td>\n",
       "      <td>0</td>\n",
       "      <td>4356</td>\n",
       "      <td>40</td>\n",
       "      <td>&lt;=50K</td>\n",
       "      <td>0</td>\n",
       "      <td>0</td>\n",
       "      <td>...</td>\n",
       "      <td>0</td>\n",
       "      <td>0</td>\n",
       "      <td>0</td>\n",
       "      <td>0</td>\n",
       "      <td>0</td>\n",
       "      <td>0</td>\n",
       "      <td>1</td>\n",
       "      <td>0</td>\n",
       "      <td>0</td>\n",
       "      <td>0</td>\n",
       "    </tr>\n",
       "    <tr>\n",
       "      <th>1</th>\n",
       "      <td>82</td>\n",
       "      <td>132870</td>\n",
       "      <td>HS-grad</td>\n",
       "      <td>9</td>\n",
       "      <td>0</td>\n",
       "      <td>4356</td>\n",
       "      <td>18</td>\n",
       "      <td>&lt;=50K</td>\n",
       "      <td>0</td>\n",
       "      <td>0</td>\n",
       "      <td>...</td>\n",
       "      <td>0</td>\n",
       "      <td>0</td>\n",
       "      <td>0</td>\n",
       "      <td>0</td>\n",
       "      <td>0</td>\n",
       "      <td>0</td>\n",
       "      <td>1</td>\n",
       "      <td>0</td>\n",
       "      <td>0</td>\n",
       "      <td>0</td>\n",
       "    </tr>\n",
       "    <tr>\n",
       "      <th>2</th>\n",
       "      <td>66</td>\n",
       "      <td>186061</td>\n",
       "      <td>Some-college</td>\n",
       "      <td>10</td>\n",
       "      <td>0</td>\n",
       "      <td>4356</td>\n",
       "      <td>40</td>\n",
       "      <td>&lt;=50K</td>\n",
       "      <td>0</td>\n",
       "      <td>0</td>\n",
       "      <td>...</td>\n",
       "      <td>0</td>\n",
       "      <td>0</td>\n",
       "      <td>0</td>\n",
       "      <td>0</td>\n",
       "      <td>0</td>\n",
       "      <td>0</td>\n",
       "      <td>1</td>\n",
       "      <td>0</td>\n",
       "      <td>0</td>\n",
       "      <td>0</td>\n",
       "    </tr>\n",
       "    <tr>\n",
       "      <th>3</th>\n",
       "      <td>54</td>\n",
       "      <td>140359</td>\n",
       "      <td>7th-8th</td>\n",
       "      <td>4</td>\n",
       "      <td>0</td>\n",
       "      <td>3900</td>\n",
       "      <td>40</td>\n",
       "      <td>&lt;=50K</td>\n",
       "      <td>0</td>\n",
       "      <td>0</td>\n",
       "      <td>...</td>\n",
       "      <td>0</td>\n",
       "      <td>0</td>\n",
       "      <td>0</td>\n",
       "      <td>0</td>\n",
       "      <td>0</td>\n",
       "      <td>0</td>\n",
       "      <td>1</td>\n",
       "      <td>0</td>\n",
       "      <td>0</td>\n",
       "      <td>0</td>\n",
       "    </tr>\n",
       "    <tr>\n",
       "      <th>4</th>\n",
       "      <td>41</td>\n",
       "      <td>264663</td>\n",
       "      <td>Some-college</td>\n",
       "      <td>10</td>\n",
       "      <td>0</td>\n",
       "      <td>3900</td>\n",
       "      <td>40</td>\n",
       "      <td>&lt;=50K</td>\n",
       "      <td>0</td>\n",
       "      <td>0</td>\n",
       "      <td>...</td>\n",
       "      <td>0</td>\n",
       "      <td>0</td>\n",
       "      <td>0</td>\n",
       "      <td>0</td>\n",
       "      <td>0</td>\n",
       "      <td>0</td>\n",
       "      <td>1</td>\n",
       "      <td>0</td>\n",
       "      <td>0</td>\n",
       "      <td>0</td>\n",
       "    </tr>\n",
       "  </tbody>\n",
       "</table>\n",
       "<p>5 rows × 94 columns</p>\n",
       "</div>"
      ],
      "text/plain": [
       "   age  fnlwgt     education  education.num  capital.gain  capital.loss  \\\n",
       "0   90   77053       HS-grad              9             0          4356   \n",
       "1   82  132870       HS-grad              9             0          4356   \n",
       "2   66  186061  Some-college             10             0          4356   \n",
       "3   54  140359       7th-8th              4             0          3900   \n",
       "4   41  264663  Some-college             10             0          3900   \n",
       "\n",
       "   hours.per.week income  workclass_Federal-gov  workclass_Local-gov  ...  \\\n",
       "0              40  <=50K                      0                    0  ...   \n",
       "1              18  <=50K                      0                    0  ...   \n",
       "2              40  <=50K                      0                    0  ...   \n",
       "3              40  <=50K                      0                    0  ...   \n",
       "4              40  <=50K                      0                    0  ...   \n",
       "\n",
       "   native.country_Puerto-Rico  native.country_Scotland  native.country_South  \\\n",
       "0                           0                        0                     0   \n",
       "1                           0                        0                     0   \n",
       "2                           0                        0                     0   \n",
       "3                           0                        0                     0   \n",
       "4                           0                        0                     0   \n",
       "\n",
       "   native.country_Taiwan  native.country_Thailand  \\\n",
       "0                      0                        0   \n",
       "1                      0                        0   \n",
       "2                      0                        0   \n",
       "3                      0                        0   \n",
       "4                      0                        0   \n",
       "\n",
       "   native.country_Trinadad&Tobago  native.country_United-States  \\\n",
       "0                               0                             1   \n",
       "1                               0                             1   \n",
       "2                               0                             1   \n",
       "3                               0                             1   \n",
       "4                               0                             1   \n",
       "\n",
       "   native.country_Vietnam  native.country_Yugoslavia  native.country_nan  \n",
       "0                       0                          0                   0  \n",
       "1                       0                          0                   0  \n",
       "2                       0                          0                   0  \n",
       "3                       0                          0                   0  \n",
       "4                       0                          0                   0  \n",
       "\n",
       "[5 rows x 94 columns]"
      ]
     },
     "execution_count": 87,
     "metadata": {},
     "output_type": "execute_result"
    }
   ],
   "source": [
    "df.head()"
   ]
  },
  {
   "cell_type": "code",
   "execution_count": 85,
   "metadata": {},
   "outputs": [
    {
     "data": {
      "text/plain": [
       "0    40\n",
       "1    18\n",
       "2    40\n",
       "3    40\n",
       "4    40\n",
       "Name: hours.per.week, dtype: int64"
      ]
     },
     "execution_count": 85,
     "metadata": {},
     "output_type": "execute_result"
    }
   ],
   "source": [
    "df['hours.per.week'][0:5]"
   ]
  },
  {
   "cell_type": "code",
   "execution_count": 86,
   "metadata": {},
   "outputs": [
    {
     "data": {
      "text/plain": [
       "array([40, 18, 40, 40, 40])"
      ]
     },
     "execution_count": 86,
     "metadata": {},
     "output_type": "execute_result"
    }
   ],
   "source": [
    "X[:,5][0:5]"
   ]
  },
  {
   "cell_type": "code",
   "execution_count": 82,
   "metadata": {},
   "outputs": [
    {
     "data": {
      "text/plain": [
       "(32561, 92)"
      ]
     },
     "execution_count": 82,
     "metadata": {},
     "output_type": "execute_result"
    }
   ],
   "source": [
    "X.shape"
   ]
  },
  {
   "cell_type": "code",
   "execution_count": 83,
   "metadata": {},
   "outputs": [
    {
     "data": {
      "text/plain": [
       "92"
      ]
     },
     "execution_count": 83,
     "metadata": {},
     "output_type": "execute_result"
    }
   ],
   "source": [
    "mon_const = [0, 0, 0, 0, 0, 1] + [0] * 86\n",
    "len(mon_const)"
   ]
  },
  {
   "cell_type": "code",
   "execution_count": 94,
   "metadata": {},
   "outputs": [
    {
     "data": {
      "text/markdown": [
       "### ***F1 (mean)***: 0.54554"
      ],
      "text/plain": [
       "<IPython.core.display.Markdown object>"
      ]
     },
     "metadata": {},
     "output_type": "display_data"
    },
    {
     "data": {
      "text/markdown": [
       "### ***Accuracy***: 0.810"
      ],
      "text/plain": [
       "<IPython.core.display.Markdown object>"
      ]
     },
     "metadata": {},
     "output_type": "display_data"
    }
   ],
   "source": [
    "model_mc = HistGradientBoostingClassifier(\n",
    "                l2_regularization=0.1,\n",
    "                learning_rate=0.1,\n",
    "                max_bins=255,\n",
    "                max_depth=10,\n",
    "                max_iter=100,\n",
    "                max_leaf_nodes=31,\n",
    "                min_samples_leaf=1,\n",
    "                random_state=42,\n",
    "                monotonic_cst=mon_const\n",
    "        )\n",
    "\n",
    "hgbc_scores = run_cross_validation(model_mc, X, y, cv=10)\n",
    "display(Markdown(f'### ***F1 (mean)***: {np.mean(hgbc_scores[\"test_f1_binary\"]):.5f}'))\n",
    "display(Markdown(f'### ***Accuracy***: {np.mean(hgbc_scores[\"test_accuracy\"]):.3f}'))"
   ]
  },
  {
   "cell_type": "code",
   "execution_count": 92,
   "metadata": {},
   "outputs": [
    {
     "data": {
      "text/markdown": [
       "### ***F1 (mean)***: 0.55062"
      ],
      "text/plain": [
       "<IPython.core.display.Markdown object>"
      ]
     },
     "metadata": {},
     "output_type": "display_data"
    },
    {
     "data": {
      "text/markdown": [
       "### ***Accuracy***: 0.811"
      ],
      "text/plain": [
       "<IPython.core.display.Markdown object>"
      ]
     },
     "metadata": {},
     "output_type": "display_data"
    }
   ],
   "source": [
    "model_mc = HistGradientBoostingClassifier(\n",
    "                monotonic_cst=mon_const,\n",
    "                random_state=42\n",
    "        )\n",
    "\n",
    "hgbc_scores = run_cross_validation(model_mc, X, y, cv=10)\n",
    "display(Markdown(f'### ***F1 (mean)***: {np.mean(hgbc_scores[\"test_f1_binary\"]):.5f}'))\n",
    "display(Markdown(f'### ***Accuracy***: {np.mean(hgbc_scores[\"test_accuracy\"]):.3f}'))"
   ]
  },
  {
   "cell_type": "code",
   "execution_count": 93,
   "metadata": {},
   "outputs": [
    {
     "data": {
      "text/markdown": [
       "### ***F1 (mean)***: 0.55068"
      ],
      "text/plain": [
       "<IPython.core.display.Markdown object>"
      ]
     },
     "metadata": {},
     "output_type": "display_data"
    },
    {
     "data": {
      "text/markdown": [
       "### ***Accuracy***: 0.810"
      ],
      "text/plain": [
       "<IPython.core.display.Markdown object>"
      ]
     },
     "metadata": {},
     "output_type": "display_data"
    }
   ],
   "source": [
    "model_mc = HistGradientBoostingClassifier(random_state=42)\n",
    "\n",
    "hgbc_scores = run_cross_validation(model_mc, X, y, cv=10)\n",
    "display(Markdown(f'### ***F1 (mean)***: {np.mean(hgbc_scores[\"test_f1_binary\"]):.5f}'))\n",
    "display(Markdown(f'### ***Accuracy***: {np.mean(hgbc_scores[\"test_accuracy\"]):.3f}'))"
   ]
  },
  {
   "cell_type": "code",
   "execution_count": null,
   "metadata": {},
   "outputs": [],
   "source": []
  }
 ],
 "metadata": {
  "kernelspec": {
   "display_name": "ml-venv",
   "language": "python",
   "name": "python3"
  },
  "language_info": {
   "codemirror_mode": {
    "name": "ipython",
    "version": 3
   },
   "file_extension": ".py",
   "mimetype": "text/x-python",
   "name": "python",
   "nbconvert_exporter": "python",
   "pygments_lexer": "ipython3",
   "version": "3.11.6"
  }
 },
 "nbformat": 4,
 "nbformat_minor": 2
}
